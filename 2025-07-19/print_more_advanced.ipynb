{
 "cells": [
  {
   "cell_type": "markdown",
   "id": "1940f8f4",
   "metadata": {},
   "source": [
    "# Funkcja print"
   ]
  },
  {
   "cell_type": "code",
   "execution_count": 2,
   "id": "34b2fc78",
   "metadata": {},
   "outputs": [
    {
     "name": "stdout",
     "output_type": "stream",
     "text": [
      "Text\n"
     ]
    }
   ],
   "source": [
    "print(\"Text\")"
   ]
  },
  {
   "cell_type": "markdown",
   "id": "720f315c",
   "metadata": {},
   "source": [
    "## Print używany ze zmiennymi"
   ]
  },
  {
   "cell_type": "markdown",
   "id": "9557d797",
   "metadata": {},
   "source": [
    "### Zmienne"
   ]
  },
  {
   "cell_type": "code",
   "execution_count": 4,
   "id": "a0064f12",
   "metadata": {},
   "outputs": [],
   "source": [
    "x = 30\n",
    "y = 31"
   ]
  },
  {
   "cell_type": "markdown",
   "id": "1c7dda1c",
   "metadata": {},
   "source": [
    "## Uruchmienie zmiennych z funkcją print"
   ]
  }
 ],
 "metadata": {
  "kernelspec": {
   "display_name": "Python 3",
   "language": "python",
   "name": "python3"
  },
  "language_info": {
   "codemirror_mode": {
    "name": "ipython",
    "version": 3
   },
   "file_extension": ".py",
   "mimetype": "text/x-python",
   "name": "python",
   "nbconvert_exporter": "python",
   "pygments_lexer": "ipython3",
   "version": "3.13.3"
  }
 },
 "nbformat": 4,
 "nbformat_minor": 5
}
